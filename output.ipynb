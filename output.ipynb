{
 "cells": [
  {
   "cell_type": "markdown",
   "id": "f2dd921e-534b-4e5c-9c36-492f72910813",
   "metadata": {
    "editable": false
   },
   "source": [
    "# Assignment 3"
   ]
  },
  {
   "cell_type": "code",
   "execution_count": 1,
   "id": "5717a6e1-13b5-464b-9244-fdec8411cd5f",
   "metadata": {
    "editable": false,
    "execution": {
     "iopub.execute_input": "2024-04-11T00:48:08.528473Z",
     "iopub.status.busy": "2024-04-11T00:48:08.525808Z",
     "iopub.status.idle": "2024-04-11T00:48:11.614593Z",
     "shell.execute_reply": "2024-04-11T00:48:11.613767Z"
    },
    "tags": []
   },
   "outputs": [],
   "source": [
    "// [THIS IS READ-ONLY]\n",
    "@file:DependsOn(\"/antlr-4.11.1-complete.jar\")\n",
    "@file:DependsOn(\"./target\")"
   ]
  },
  {
   "cell_type": "code",
   "execution_count": 2,
   "id": "3b38dfda-74cd-4464-a6e0-a42096ff8aab",
   "metadata": {
    "editable": false,
    "execution": {
     "iopub.execute_input": "2024-04-11T00:48:11.619276Z",
     "iopub.status.busy": "2024-04-11T00:48:11.618310Z",
     "iopub.status.idle": "2024-04-11T00:48:11.774164Z",
     "shell.execute_reply": "2024-04-11T00:48:11.773263Z"
    },
    "tags": []
   },
   "outputs": [],
   "source": [
    "// [THIS IS READ-ONLY]\n",
    "import org.antlr.v4.runtime.*\n",
    "import backend.*"
   ]
  },
  {
   "cell_type": "code",
   "execution_count": 3,
   "id": "87e5764c-c1cf-43f8-86b8-71f1e6bfae44",
   "metadata": {
    "editable": false,
    "execution": {
     "iopub.execute_input": "2024-04-11T00:48:11.778808Z",
     "iopub.status.busy": "2024-04-11T00:48:11.777725Z",
     "iopub.status.idle": "2024-04-11T00:48:12.570966Z",
     "shell.execute_reply": "2024-04-11T00:48:12.570477Z"
    },
    "tags": []
   },
   "outputs": [],
   "source": [
    "// [THIS IS READ-ONLY]\n",
    "fun execute(source:String) {\n",
    "    val errorlistener = object: BaseErrorListener() {\n",
    "        override fun syntaxError(recognizer: Recognizer<*,*>,\n",
    "               offendingSymbol: Any?,\n",
    "               line: Int,\n",
    "               pos: Int,\n",
    "               msg: String,\n",
    "               e: RecognitionException?) {\n",
    "            throw Exception(\"${e} at line:${line}, char:${pos}\")\n",
    "        }\n",
    "    }\n",
    "    val input = CharStreams.fromString(source)\n",
    "    val lexer = PLLexer(input).apply {\n",
    "        removeErrorListeners()\n",
    "        addErrorListener(errorlistener)\n",
    "    }\n",
    "    val tokens = CommonTokenStream(lexer)\n",
    "    val parser = PLParser(tokens).apply {\n",
    "        removeErrorListeners()\n",
    "        addErrorListener(errorlistener)\n",
    "    }    \n",
    "    \n",
    "    try {\n",
    "        val result = parser.program()\n",
    "        result.expr.eval(Runtime())\n",
    "    } catch(e:Exception) {\n",
    "        println(\"Error: ${e}\")\n",
    "    }\n",
    "}"
   ]
  },
  {
   "cell_type": "markdown",
   "id": "d02565aa-4e9f-4261-a185-d140b68c54f1",
   "metadata": {
    "editable": false
   },
   "source": [
    "## String arithmetics"
   ]
  },
  {
   "cell_type": "code",
   "execution_count": 4,
   "id": "b001c14e-2f45-48fc-82be-a98168bf2aa9",
   "metadata": {
    "editable": false,
    "execution": {
     "iopub.execute_input": "2024-04-11T00:48:12.575031Z",
     "iopub.status.busy": "2024-04-11T00:48:12.574217Z",
     "iopub.status.idle": "2024-04-11T00:48:12.699994Z",
     "shell.execute_reply": "2024-04-11T00:48:12.699408Z"
    },
    "tags": []
   },
   "outputs": [],
   "source": [
    "// [THIS IS READ-ONLY]\n",
    "val program1 = \"\"\"\n",
    "x = \"Hello\";\n",
    "y = \"World\";\n",
    "\n",
    "print(x ++ \" \" ++ y);\n",
    "\"\"\""
   ]
  },
  {
   "cell_type": "code",
   "execution_count": 5,
   "id": "b3c2857e",
   "metadata": {
    "execution": {
     "iopub.execute_input": "2024-04-11T00:48:12.703783Z",
     "iopub.status.busy": "2024-04-11T00:48:12.703035Z",
     "iopub.status.idle": "2024-04-11T00:48:12.910632Z",
     "shell.execute_reply": "2024-04-11T00:48:12.909879Z"
    },
    "tags": []
   },
   "outputs": [
    {
     "name": "stdout",
     "output_type": "stream",
     "text": [
      "\"Hello World\"\n"
     ]
    }
   ],
   "source": [
    "// [YOUR WORK HERE]\n",
    "// @workUnit\n",
    "// execute the program\n",
    "\n",
    "execute(program1)"
   ]
  },
  {
   "cell_type": "markdown",
   "id": "b4ad5b2d-b4b2-42e8-bbe1-0ecefb10102d",
   "metadata": {
    "editable": false
   },
   "source": [
    "## Mixed arithmetics"
   ]
  },
  {
   "cell_type": "code",
   "execution_count": 6,
   "id": "579a59aa-6074-4715-a248-bd553e9bddbf",
   "metadata": {
    "editable": false,
    "execution": {
     "iopub.execute_input": "2024-04-11T00:48:12.913857Z",
     "iopub.status.busy": "2024-04-11T00:48:12.913166Z",
     "iopub.status.idle": "2024-04-11T00:48:13.022946Z",
     "shell.execute_reply": "2024-04-11T00:48:13.022449Z"
    },
    "tags": []
   },
   "outputs": [],
   "source": [
    "// [THIS IS READ-ONLY]\n",
    "val program2 = \"\"\"\n",
    "x = \"woof \";\n",
    "y = \"Dog goes \" ++ (x * 2);\n",
    "\n",
    "print(y);\n",
    "\"\"\""
   ]
  },
  {
   "cell_type": "code",
   "execution_count": 7,
   "id": "629a437d",
   "metadata": {
    "execution": {
     "iopub.execute_input": "2024-04-11T00:48:13.058383Z",
     "iopub.status.busy": "2024-04-11T00:48:13.057797Z",
     "iopub.status.idle": "2024-04-11T00:48:13.156893Z",
     "shell.execute_reply": "2024-04-11T00:48:13.156567Z"
    },
    "tags": []
   },
   "outputs": [
    {
     "name": "stdout",
     "output_type": "stream",
     "text": [
      "\"Dog goes woof woof \"\n"
     ]
    }
   ],
   "source": [
    "// [YOUR WORK HERE]\n",
    "// @workUnit\n",
    "\n",
    "execute(program2)"
   ]
  },
  {
   "cell_type": "markdown",
   "id": "172ba344-0ce6-49c2-a5ac-d14eefdaffb4",
   "metadata": {
    "editable": false
   },
   "source": [
    "## Loops"
   ]
  },
  {
   "cell_type": "code",
   "execution_count": 8,
   "id": "eab62b5c-103d-4b9e-9244-61faa2571bd7",
   "metadata": {
    "editable": false,
    "execution": {
     "iopub.execute_input": "2024-04-11T00:48:13.160559Z",
     "iopub.status.busy": "2024-04-11T00:48:13.159967Z",
     "iopub.status.idle": "2024-04-11T00:48:13.215392Z",
     "shell.execute_reply": "2024-04-11T00:48:13.214960Z"
    },
    "tags": []
   },
   "outputs": [],
   "source": [
    "// [THIS IS READ-ONLY]\n",
    "val program3 = \"\"\"\n",
    "sum = 0\n",
    "for(i in 10..20) {\n",
    "  sum = sum + i;\n",
    "}\n",
    "\n",
    "print(sum)\n",
    "\"\"\""
   ]
  },
  {
   "cell_type": "code",
   "execution_count": 9,
   "id": "9f1ac87b",
   "metadata": {
    "execution": {
     "iopub.execute_input": "2024-04-11T00:48:13.218171Z",
     "iopub.status.busy": "2024-04-11T00:48:13.217561Z",
     "iopub.status.idle": "2024-04-11T00:48:13.313332Z",
     "shell.execute_reply": "2024-04-11T00:48:13.312630Z"
    },
    "tags": []
   },
   "outputs": [
    {
     "name": "stdout",
     "output_type": "stream",
     "text": [
      "sum = 0\n",
      "165\n"
     ]
    }
   ],
   "source": [
    "// [YOUR WORK HERE]\n",
    "// @workUnit\n",
    "\n",
    "execute(program3)"
   ]
  },
  {
   "cell_type": "markdown",
   "id": "46585be1-3814-4ad5-83e8-6ff46f99b90f",
   "metadata": {
    "editable": false,
    "tags": []
   },
   "source": [
    "## Function"
   ]
  },
  {
   "cell_type": "code",
   "execution_count": 10,
   "id": "91e9c33b-9393-4de7-8e98-aa82d568df53",
   "metadata": {
    "editable": false,
    "execution": {
     "iopub.execute_input": "2024-04-11T00:48:13.316536Z",
     "iopub.status.busy": "2024-04-11T00:48:13.315873Z",
     "iopub.status.idle": "2024-04-11T00:48:13.392928Z",
     "shell.execute_reply": "2024-04-11T00:48:13.392373Z"
    },
    "tags": []
   },
   "outputs": [],
   "source": [
    "// [THIS IS READ-ONLY]\n",
    "val program4 = \"\"\"\n",
    "function greeting(name, message) {\n",
    "  x = \"Hi,\";\n",
    "  x = x ++ \" my name is \" ++ name ++ \".\";\n",
    "  print(x);\n",
    "  print(message);\n",
    "}\n",
    "\n",
    "greeting(\"Albert\", \"How are you?\");\n",
    "\"\"\""
   ]
  },
  {
   "cell_type": "code",
   "execution_count": 11,
   "id": "475f7864",
   "metadata": {
    "execution": {
     "iopub.execute_input": "2024-04-11T00:48:13.395538Z",
     "iopub.status.busy": "2024-04-11T00:48:13.395041Z",
     "iopub.status.idle": "2024-04-11T00:48:13.482288Z",
     "shell.execute_reply": "2024-04-11T00:48:13.481686Z"
    },
    "tags": []
   },
   "outputs": [
    {
     "name": "stdout",
     "output_type": "stream",
     "text": [
      "\"Hi, my name is Albert.\"\n",
      "\"How are you?\"\n"
     ]
    }
   ],
   "source": [
    "// [YOUR WORK HERE]\n",
    "// @workUnit\n",
    "\n",
    "execute(program4)"
   ]
  },
  {
   "cell_type": "markdown",
   "id": "aeb42862-8d8a-4a40-ae06-a5641eb8d2bf",
   "metadata": {
    "editable": false,
    "tags": []
   },
   "source": [
    "## Recursion"
   ]
  },
  {
   "cell_type": "code",
   "execution_count": 12,
   "id": "c39324da-96e3-4e61-a489-f23a7fc3f508",
   "metadata": {
    "editable": false,
    "execution": {
     "iopub.execute_input": "2024-04-11T00:48:13.484959Z",
     "iopub.status.busy": "2024-04-11T00:48:13.484464Z",
     "iopub.status.idle": "2024-04-11T00:48:13.565224Z",
     "shell.execute_reply": "2024-04-11T00:48:13.564759Z"
    },
    "tags": []
   },
   "outputs": [],
   "source": [
    "// [THIS IS READ-ONLY]\n",
    "val program5 = \"\"\"\n",
    "function factorial(n) {\n",
    "  if(n < 2) {\n",
    "    1;\n",
    "  } else {\n",
    "    n * factorial(n-1);\n",
    "  }\n",
    "}\n",
    "\n",
    "print(factorial(10));\n",
    "\"\"\""
   ]
  },
  {
   "cell_type": "code",
   "execution_count": 13,
   "id": "755cf3df",
   "metadata": {
    "execution": {
     "iopub.execute_input": "2024-04-11T00:48:13.567690Z",
     "iopub.status.busy": "2024-04-11T00:48:13.567120Z",
     "iopub.status.idle": "2024-04-11T00:48:13.669011Z",
     "shell.execute_reply": "2024-04-11T00:48:13.668244Z"
    },
    "tags": []
   },
   "outputs": [
    {
     "name": "stdout",
     "output_type": "stream",
     "text": [
      "3628800\n"
     ]
    }
   ],
   "source": [
    "// [YOUR WORK HERE]\n",
    "// @workUnit\n",
    "\n",
    "execute(program5)"
   ]
  },
  {
   "cell_type": "code",
   "execution_count": 14,
   "id": "10a49ccd-c2cc-4580-a959-130e38c66e5e",
   "metadata": {
    "execution": {
     "iopub.execute_input": "2024-04-11T00:48:13.672638Z",
     "iopub.status.busy": "2024-04-11T00:48:13.670946Z",
     "iopub.status.idle": "2024-04-11T00:48:13.717316Z",
     "shell.execute_reply": "2024-04-11T00:48:13.716853Z"
    },
    "tags": []
   },
   "outputs": [],
   "source": [
    "val while_program = \"\"\"\n",
    "\n",
    "x = 5;\n",
    "y = 120;\n",
    "z = 3.14;\n",
    "a = 4244.44242;\n",
    "g = [x,y,z,a];\n",
    "g.size();\n",
    "\"\"\""
   ]
  },
  {
   "cell_type": "code",
   "execution_count": 15,
   "id": "38355ceb-e5cc-4b3c-b64f-58640f5b929a",
   "metadata": {
    "execution": {
     "iopub.execute_input": "2024-04-11T00:48:13.720085Z",
     "iopub.status.busy": "2024-04-11T00:48:13.719344Z",
     "iopub.status.idle": "2024-04-11T00:48:13.812899Z",
     "shell.execute_reply": "2024-04-11T00:48:13.812429Z"
    },
    "tags": []
   },
   "outputs": [
    {
     "name": "stdout",
     "output_type": "stream",
     "text": [
      "Error: java.lang.NullPointerException\n"
     ]
    }
   ],
   "source": [
    "execute(while_program)"
   ]
  },
  {
   "cell_type": "code",
   "execution_count": 16,
   "id": "c6ed5ff4-edf8-4c5d-a2bd-5d4062726c09",
   "metadata": {
    "execution": {
     "iopub.execute_input": "2024-04-11T00:48:13.815243Z",
     "iopub.status.busy": "2024-04-11T00:48:13.814845Z",
     "iopub.status.idle": "2024-04-11T00:48:13.892070Z",
     "shell.execute_reply": "2024-04-11T00:48:13.891527Z"
    }
   },
   "outputs": [],
   "source": [
    "// [THIS IS READ-ONLY]\n",
    "val program_new = \"\"\"\n",
    "sum = 0;\n",
    "for(i in 10..20) {\n",
    "  sum = sum + i;\n",
    "}\n",
    "\n",
    "print(sum);\n",
    "\"\"\""
   ]
  },
  {
   "cell_type": "code",
   "execution_count": 17,
   "id": "3021b249-9898-4c95-a110-bf0901abcaca",
   "metadata": {
    "execution": {
     "iopub.execute_input": "2024-04-11T00:48:13.894379Z",
     "iopub.status.busy": "2024-04-11T00:48:13.893979Z",
     "iopub.status.idle": "2024-04-11T00:48:13.977906Z",
     "shell.execute_reply": "2024-04-11T00:48:13.977447Z"
    },
    "tags": []
   },
   "outputs": [
    {
     "name": "stdout",
     "output_type": "stream",
     "text": [
      "sum = 0\n",
      "165\n"
     ]
    }
   ],
   "source": [
    "execute(program_new)"
   ]
  },
  {
   "cell_type": "code",
   "execution_count": 18,
   "id": "e81bdcd7-27c1-4f1f-abe2-9688072ff105",
   "metadata": {
    "execution": {
     "iopub.execute_input": "2024-04-11T00:48:13.980217Z",
     "iopub.status.busy": "2024-04-11T00:48:13.979736Z",
     "iopub.status.idle": "2024-04-11T00:48:14.020876Z",
     "shell.execute_reply": "2024-04-11T00:48:14.020426Z"
    },
    "tags": []
   },
   "outputs": [],
   "source": [
    "// [THIS IS READ-ONLY]\n",
    "val program5_ex = \"\"\"\n",
    "function a() {\n",
    "    4;\n",
    "}\n",
    "z = !(7 == a()) && (7 == a());\n",
    "y = !(7 == a()) || (7 == a());\n",
    "print(\"this should be false\");\n",
    "print(z);\n",
    "print(\"this should be true\");\n",
    "print(y);\n",
    "\"\"\""
   ]
  },
  {
   "cell_type": "code",
   "execution_count": 19,
   "id": "5a76a621-61df-46bd-8b56-0de959666f2e",
   "metadata": {
    "execution": {
     "iopub.execute_input": "2024-04-11T00:48:14.022993Z",
     "iopub.status.busy": "2024-04-11T00:48:14.022605Z",
     "iopub.status.idle": "2024-04-11T00:48:14.102200Z",
     "shell.execute_reply": "2024-04-11T00:48:14.101780Z"
    },
    "tags": []
   },
   "outputs": [
    {
     "name": "stdout",
     "output_type": "stream",
     "text": [
      "\"this should be false\"\n",
      "false\n",
      "\"this should be true\"\n",
      "true\n"
     ]
    }
   ],
   "source": [
    "execute(program5_ex)"
   ]
  },
  {
   "cell_type": "code",
   "execution_count": null,
   "id": "bd9cff40-39df-4df6-b081-341dd93aa7b7",
   "metadata": {},
   "outputs": [],
   "source": []
  },
  {
   "cell_type": "code",
   "execution_count": null,
   "id": "1fd64d69-f1bb-4983-8593-9f9e764fb3dc",
   "metadata": {},
   "outputs": [],
   "source": []
  }
 ],
 "metadata": {
  "kernelspec": {
   "display_name": "Kotlin",
   "language": "kotlin",
   "name": "kotlin"
  },
  "language_info": {
   "codemirror_mode": "text/x-kotlin",
   "file_extension": ".kt",
   "mimetype": "text/x-kotlin",
   "name": "kotlin",
   "nbconvert_exporter": "",
   "pygments_lexer": "kotlin",
   "version": "1.8.0-dev-707"
  }
 },
 "nbformat": 4,
 "nbformat_minor": 5
}
