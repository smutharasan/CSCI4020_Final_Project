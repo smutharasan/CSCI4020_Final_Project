{
 "cells": [
  {
   "cell_type": "markdown",
   "id": "f2dd921e-534b-4e5c-9c36-492f72910813",
   "metadata": {
    "editable": false
   },
   "source": [
    "# Assignment 3"
   ]
  },
  {
   "cell_type": "code",
   "execution_count": 1,
   "id": "5717a6e1-13b5-464b-9244-fdec8411cd5f",
   "metadata": {
    "editable": false,
    "execution": {
     "iopub.execute_input": "2024-04-08T14:44:53.289187Z",
     "iopub.status.busy": "2024-04-08T14:44:53.286956Z",
     "iopub.status.idle": "2024-04-08T14:44:56.319959Z",
     "shell.execute_reply": "2024-04-08T14:44:56.319223Z"
    },
    "tags": []
   },
   "outputs": [],
   "source": [
    "// [THIS IS READ-ONLY]\n",
    "@file:DependsOn(\"/antlr-4.11.1-complete.jar\")\n",
    "@file:DependsOn(\"./target\")"
   ]
  },
  {
   "cell_type": "code",
   "execution_count": 2,
   "id": "3b38dfda-74cd-4464-a6e0-a42096ff8aab",
   "metadata": {
    "editable": false,
    "execution": {
     "iopub.execute_input": "2024-04-08T14:44:56.324552Z",
     "iopub.status.busy": "2024-04-08T14:44:56.323368Z",
     "iopub.status.idle": "2024-04-08T14:44:56.470507Z",
     "shell.execute_reply": "2024-04-08T14:44:56.469801Z"
    },
    "tags": []
   },
   "outputs": [],
   "source": [
    "// [THIS IS READ-ONLY]\n",
    "import org.antlr.v4.runtime.*\n",
    "import backend.*"
   ]
  },
  {
   "cell_type": "code",
   "execution_count": 3,
   "id": "87e5764c-c1cf-43f8-86b8-71f1e6bfae44",
   "metadata": {
    "editable": false,
    "execution": {
     "iopub.execute_input": "2024-04-08T14:44:56.474760Z",
     "iopub.status.busy": "2024-04-08T14:44:56.473740Z",
     "iopub.status.idle": "2024-04-08T14:44:57.323251Z",
     "shell.execute_reply": "2024-04-08T14:44:57.322749Z"
    },
    "tags": []
   },
   "outputs": [],
   "source": [
    "// [THIS IS READ-ONLY]\n",
    "fun execute(source:String) {\n",
    "    val errorlistener = object: BaseErrorListener() {\n",
    "        override fun syntaxError(recognizer: Recognizer<*,*>,\n",
    "               offendingSymbol: Any?,\n",
    "               line: Int,\n",
    "               pos: Int,\n",
    "               msg: String,\n",
    "               e: RecognitionException?) {\n",
    "            throw Exception(\"${e} at line:${line}, char:${pos}\")\n",
    "        }\n",
    "    }\n",
    "    val input = CharStreams.fromString(source)\n",
    "    val lexer = PLLexer(input).apply {\n",
    "        removeErrorListeners()\n",
    "        addErrorListener(errorlistener)\n",
    "    }\n",
    "    val tokens = CommonTokenStream(lexer)\n",
    "    val parser = PLParser(tokens).apply {\n",
    "        removeErrorListeners()\n",
    "        addErrorListener(errorlistener)\n",
    "    }    \n",
    "    \n",
    "    try {\n",
    "        val result = parser.program()\n",
    "        result.expr.eval(Runtime())\n",
    "    } catch(e:Exception) {\n",
    "        println(\"Error: ${e}\")\n",
    "    }\n",
    "}"
   ]
  },
  {
   "cell_type": "markdown",
   "id": "d02565aa-4e9f-4261-a185-d140b68c54f1",
   "metadata": {
    "editable": false
   },
   "source": [
    "## String arithmetics"
   ]
  },
  {
   "cell_type": "code",
   "execution_count": 4,
   "id": "b001c14e-2f45-48fc-82be-a98168bf2aa9",
   "metadata": {
    "editable": false,
    "execution": {
     "iopub.execute_input": "2024-04-08T14:44:57.327223Z",
     "iopub.status.busy": "2024-04-08T14:44:57.326350Z",
     "iopub.status.idle": "2024-04-08T14:44:57.459883Z",
     "shell.execute_reply": "2024-04-08T14:44:57.458676Z"
    },
    "tags": []
   },
   "outputs": [],
   "source": [
    "// [THIS IS READ-ONLY]\n",
    "val program1 = \"\"\"\n",
    "x = \"Hello\";\n",
    "y = \"World\";\n",
    "\n",
    "print(x ++ \" \" ++ y);\n",
    "\"\"\""
   ]
  },
  {
   "cell_type": "code",
   "execution_count": 5,
   "id": "b3c2857e",
   "metadata": {
    "execution": {
     "iopub.execute_input": "2024-04-08T14:44:57.463718Z",
     "iopub.status.busy": "2024-04-08T14:44:57.463073Z",
     "iopub.status.idle": "2024-04-08T14:44:57.618688Z",
     "shell.execute_reply": "2024-04-08T14:44:57.617873Z"
    },
    "tags": []
   },
   "outputs": [
    {
     "name": "stdout",
     "output_type": "stream",
     "text": [
      "\"Hello World\"\n"
     ]
    }
   ],
   "source": [
    "// [YOUR WORK HERE]\n",
    "// @workUnit\n",
    "// execute the program\n",
    "\n",
    "execute(program1)"
   ]
  },
  {
   "cell_type": "markdown",
   "id": "b4ad5b2d-b4b2-42e8-bbe1-0ecefb10102d",
   "metadata": {
    "editable": false
   },
   "source": [
    "## Mixed arithmetics"
   ]
  },
  {
   "cell_type": "code",
   "execution_count": 6,
   "id": "579a59aa-6074-4715-a248-bd553e9bddbf",
   "metadata": {
    "editable": false,
    "execution": {
     "iopub.execute_input": "2024-04-08T14:44:57.622119Z",
     "iopub.status.busy": "2024-04-08T14:44:57.621411Z",
     "iopub.status.idle": "2024-04-08T14:44:57.704748Z",
     "shell.execute_reply": "2024-04-08T14:44:57.704257Z"
    },
    "tags": []
   },
   "outputs": [],
   "source": [
    "// [THIS IS READ-ONLY]\n",
    "val program2 = \"\"\"\n",
    "x = \"woof \";\n",
    "y = \"Dog goes \" ++ (x * 2);\n",
    "\n",
    "print(y);\n",
    "\"\"\""
   ]
  },
  {
   "cell_type": "code",
   "execution_count": 7,
   "id": "629a437d",
   "metadata": {
    "execution": {
     "iopub.execute_input": "2024-04-08T14:44:57.707893Z",
     "iopub.status.busy": "2024-04-08T14:44:57.707271Z",
     "iopub.status.idle": "2024-04-08T14:44:57.874021Z",
     "shell.execute_reply": "2024-04-08T14:44:57.873481Z"
    },
    "tags": []
   },
   "outputs": [
    {
     "name": "stdout",
     "output_type": "stream",
     "text": [
      "\"Dog goes woof woof \"\n"
     ]
    }
   ],
   "source": [
    "// [YOUR WORK HERE]\n",
    "// @workUnit\n",
    "\n",
    "execute(program2)"
   ]
  },
  {
   "cell_type": "markdown",
   "id": "172ba344-0ce6-49c2-a5ac-d14eefdaffb4",
   "metadata": {
    "editable": false
   },
   "source": [
    "## Loops"
   ]
  },
  {
   "cell_type": "code",
   "execution_count": 8,
   "id": "eab62b5c-103d-4b9e-9244-61faa2571bd7",
   "metadata": {
    "editable": false,
    "execution": {
     "iopub.execute_input": "2024-04-08T14:44:57.876944Z",
     "iopub.status.busy": "2024-04-08T14:44:57.876328Z",
     "iopub.status.idle": "2024-04-08T14:44:57.965634Z",
     "shell.execute_reply": "2024-04-08T14:44:57.965120Z"
    },
    "tags": []
   },
   "outputs": [],
   "source": [
    "// [THIS IS READ-ONLY]\n",
    "val program3 = \"\"\"\n",
    "sum = 0\n",
    "for(i in 10..20) {\n",
    "  sum = sum + i;\n",
    "}\n",
    "\n",
    "print(sum)\n",
    "\"\"\""
   ]
  },
  {
   "cell_type": "code",
   "execution_count": 9,
   "id": "9f1ac87b",
   "metadata": {
    "execution": {
     "iopub.execute_input": "2024-04-08T14:44:57.968588Z",
     "iopub.status.busy": "2024-04-08T14:44:57.967971Z",
     "iopub.status.idle": "2024-04-08T14:44:58.066475Z",
     "shell.execute_reply": "2024-04-08T14:44:58.065835Z"
    },
    "tags": []
   },
   "outputs": [
    {
     "name": "stdout",
     "output_type": "stream",
     "text": [
      "165\n"
     ]
    }
   ],
   "source": [
    "// [YOUR WORK HERE]\n",
    "// @workUnit\n",
    "\n",
    "execute(program3)"
   ]
  },
  {
   "cell_type": "markdown",
   "id": "46585be1-3814-4ad5-83e8-6ff46f99b90f",
   "metadata": {
    "editable": false,
    "tags": []
   },
   "source": [
    "## Function"
   ]
  },
  {
   "cell_type": "code",
   "execution_count": 10,
   "id": "91e9c33b-9393-4de7-8e98-aa82d568df53",
   "metadata": {
    "editable": false,
    "execution": {
     "iopub.execute_input": "2024-04-08T14:44:58.069485Z",
     "iopub.status.busy": "2024-04-08T14:44:58.068737Z",
     "iopub.status.idle": "2024-04-08T14:44:58.157974Z",
     "shell.execute_reply": "2024-04-08T14:44:58.157532Z"
    },
    "tags": []
   },
   "outputs": [],
   "source": [
    "// [THIS IS READ-ONLY]\n",
    "val program4 = \"\"\"\n",
    "function greeting(name, message) {\n",
    "  x = \"Hi,\";\n",
    "  x = x ++ \" my name is \" ++ name ++ \".\";\n",
    "  print(x);\n",
    "  print(message);\n",
    "}\n",
    "\n",
    "greeting(\"Albert\", \"How are you?\");\n",
    "\"\"\""
   ]
  },
  {
   "cell_type": "code",
   "execution_count": 11,
   "id": "475f7864",
   "metadata": {
    "execution": {
     "iopub.execute_input": "2024-04-08T14:44:58.160715Z",
     "iopub.status.busy": "2024-04-08T14:44:58.160230Z",
     "iopub.status.idle": "2024-04-08T14:44:58.218057Z",
     "shell.execute_reply": "2024-04-08T14:44:58.217534Z"
    },
    "tags": []
   },
   "outputs": [
    {
     "name": "stdout",
     "output_type": "stream",
     "text": [
      "\"Hi, my name is Albert.\"\n",
      "\"How are you?\"\n"
     ]
    }
   ],
   "source": [
    "// [YOUR WORK HERE]\n",
    "// @workUnit\n",
    "\n",
    "execute(program4)"
   ]
  },
  {
   "cell_type": "markdown",
   "id": "aeb42862-8d8a-4a40-ae06-a5641eb8d2bf",
   "metadata": {
    "editable": false,
    "tags": []
   },
   "source": [
    "## Recursion"
   ]
  },
  {
   "cell_type": "code",
   "execution_count": 12,
   "id": "c39324da-96e3-4e61-a489-f23a7fc3f508",
   "metadata": {
    "editable": false,
    "execution": {
     "iopub.execute_input": "2024-04-08T14:44:58.220693Z",
     "iopub.status.busy": "2024-04-08T14:44:58.220166Z",
     "iopub.status.idle": "2024-04-08T14:44:58.315510Z",
     "shell.execute_reply": "2024-04-08T14:44:58.315056Z"
    },
    "tags": []
   },
   "outputs": [],
   "source": [
    "// [THIS IS READ-ONLY]\n",
    "val program5 = \"\"\"\n",
    "function factorial(n) {\n",
    "  if(n < 2) {\n",
    "    1;\n",
    "  } else {\n",
    "    n * factorial(n-1);\n",
    "  }\n",
    "}\n",
    "\n",
    "print(factorial(10));\n",
    "\"\"\""
   ]
  },
  {
   "cell_type": "code",
   "execution_count": 13,
   "id": "755cf3df",
   "metadata": {
    "execution": {
     "iopub.execute_input": "2024-04-08T14:44:58.318119Z",
     "iopub.status.busy": "2024-04-08T14:44:58.317587Z",
     "iopub.status.idle": "2024-04-08T14:44:58.413541Z",
     "shell.execute_reply": "2024-04-08T14:44:58.413018Z"
    },
    "tags": []
   },
   "outputs": [
    {
     "name": "stdout",
     "output_type": "stream",
     "text": [
      "3628800\n"
     ]
    }
   ],
   "source": [
    "// [YOUR WORK HERE]\n",
    "// @workUnit\n",
    "\n",
    "execute(program5)"
   ]
  },
  {
   "cell_type": "code",
   "execution_count": 14,
   "id": "10a49ccd-c2cc-4580-a959-130e38c66e5e",
   "metadata": {
    "execution": {
     "iopub.execute_input": "2024-04-08T14:44:58.417189Z",
     "iopub.status.busy": "2024-04-08T14:44:58.415551Z",
     "iopub.status.idle": "2024-04-08T14:44:58.493959Z",
     "shell.execute_reply": "2024-04-08T14:44:58.493462Z"
    },
    "tags": []
   },
   "outputs": [],
   "source": [
    "val while_program = \"\"\"\n",
    "\n",
    "x = 5;\n",
    "y = 10; \n",
    "\n",
    "while(x <= y){\n",
    "    z = \"Hello world\";\n",
    "    alpha = \"foo bar\";\n",
    "    print(z ++ \" \" ++ alpha);\n",
    "    print(x);\n",
    "    x = x + 1;\n",
    "}\n",
    "\"\"\""
   ]
  },
  {
   "cell_type": "code",
   "execution_count": 15,
   "id": "38355ceb-e5cc-4b3c-b64f-58640f5b929a",
   "metadata": {
    "execution": {
     "iopub.execute_input": "2024-04-08T14:44:58.496815Z",
     "iopub.status.busy": "2024-04-08T14:44:58.496001Z",
     "iopub.status.idle": "2024-04-08T14:44:58.581087Z",
     "shell.execute_reply": "2024-04-08T14:44:58.580574Z"
    },
    "tags": []
   },
   "outputs": [
    {
     "name": "stdout",
     "output_type": "stream",
     "text": [
      "\"Hello world foo bar\"\n",
      "5\n",
      "\"Hello world foo bar\"\n",
      "6\n",
      "\"Hello world foo bar\"\n",
      "7\n",
      "\"Hello world foo bar\"\n",
      "8\n",
      "\"Hello world foo bar\"\n",
      "9\n",
      "\"Hello world foo bar\"\n",
      "10\n"
     ]
    }
   ],
   "source": [
    "execute(while_program)"
   ]
  },
  {
   "cell_type": "code",
   "execution_count": null,
   "id": "c6ed5ff4-edf8-4c5d-a2bd-5d4062726c09",
   "metadata": {},
   "outputs": [],
   "source": []
  }
 ],
 "metadata": {
  "kernelspec": {
   "display_name": "Kotlin",
   "language": "kotlin",
   "name": "kotlin"
  },
  "language_info": {
   "codemirror_mode": "text/x-kotlin",
   "file_extension": ".kt",
   "mimetype": "text/x-kotlin",
   "name": "kotlin",
   "nbconvert_exporter": "",
   "pygments_lexer": "kotlin",
   "version": "1.8.0-dev-707"
  }
 },
 "nbformat": 4,
 "nbformat_minor": 5
}
