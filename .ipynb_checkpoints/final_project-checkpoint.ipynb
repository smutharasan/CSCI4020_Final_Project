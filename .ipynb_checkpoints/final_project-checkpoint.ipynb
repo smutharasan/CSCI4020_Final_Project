{
 "cells": [
  {
   "cell_type": "markdown",
   "id": "7b665b62-5ec5-40ba-a1a0-a2b57092b47c",
   "metadata": {
    "tags": []
   },
   "source": [
    "# Final Project"
   ]
  },
  {
   "cell_type": "code",
   "execution_count": 1,
   "id": "5717a6e1-13b5-464b-9244-fdec8411cd5f",
   "metadata": {
    "editable": false,
    "tags": []
   },
   "outputs": [],
   "source": [
    "// [THIS IS READ-ONLY]\n",
    "@file:DependsOn(\"/antlr-4.11.1-complete.jar\")\n",
    "@file:DependsOn(\"./target\")"
   ]
  },
  {
   "cell_type": "code",
   "execution_count": 2,
   "id": "3b38dfda-74cd-4464-a6e0-a42096ff8aab",
   "metadata": {
    "editable": false,
    "tags": []
   },
   "outputs": [],
   "source": [
    "// [THIS IS READ-ONLY]\n",
    "import org.antlr.v4.runtime.*\n",
    "import backend.*"
   ]
  },
  {
   "cell_type": "code",
   "execution_count": 3,
   "id": "87e5764c-c1cf-43f8-86b8-71f1e6bfae44",
   "metadata": {
    "editable": false,
    "tags": []
   },
   "outputs": [],
   "source": [
    "// [THIS IS READ-ONLY]\n",
    "fun execute(source:String) {\n",
    "    val errorlistener = object: BaseErrorListener() {\n",
    "        override fun syntaxError(recognizer: Recognizer<*,*>,\n",
    "               offendingSymbol: Any?,\n",
    "               line: Int,\n",
    "               pos: Int,\n",
    "               msg: String,\n",
    "               e: RecognitionException?) {\n",
    "            throw Exception(\"${e} at line:${line}, char:${pos}\")\n",
    "        }\n",
    "    }\n",
    "    val input = CharStreams.fromString(source)\n",
    "    val lexer = PLLexer(input).apply {\n",
    "        removeErrorListeners()\n",
    "        addErrorListener(errorlistener)\n",
    "    }\n",
    "    val tokens = CommonTokenStream(lexer)\n",
    "    val parser = PLParser(tokens).apply {\n",
    "        removeErrorListeners()\n",
    "        addErrorListener(errorlistener)\n",
    "    }    \n",
    "    \n",
    "    try {\n",
    "        val result = parser.program()\n",
    "        result.expr.eval(Runtime())\n",
    "    } catch(e:Exception) {\n",
    "        println(\"Error: ${e}\")\n",
    "    }\n",
    "}"
   ]
  },
  {
   "cell_type": "markdown",
   "id": "d02565aa-4e9f-4261-a185-d140b68c54f1",
   "metadata": {
    "editable": false
   },
   "source": [
    "## String arithmetics"
   ]
  },
  {
   "cell_type": "code",
   "execution_count": 4,
   "id": "b001c14e-2f45-48fc-82be-a98168bf2aa9",
   "metadata": {
    "editable": false,
    "tags": []
   },
   "outputs": [],
   "source": [
    "// [THIS IS READ-ONLY]\n",
    "val program1 = \"\"\"\n",
    "x = \"Hello\";\n",
    "y = \"World\";\n",
    "\n",
    "print(x ++ \" \" ++ y);\n",
    "\"\"\""
   ]
  },
  {
   "cell_type": "code",
   "execution_count": 5,
   "id": "b3c2857e",
   "metadata": {
    "tags": []
   },
   "outputs": [
    {
     "name": "stdout",
     "output_type": "stream",
     "text": [
      "\"Hello World\"\n"
     ]
    }
   ],
   "source": [
    "// [YOUR WORK HERE]\n",
    "// @workUnit\n",
    "// execute the program\n",
    "\n",
    "execute(program1)"
   ]
  },
  {
   "cell_type": "markdown",
   "id": "b4ad5b2d-b4b2-42e8-bbe1-0ecefb10102d",
   "metadata": {
    "editable": false
   },
   "source": [
    "## Mixed arithmetics"
   ]
  },
  {
   "cell_type": "code",
   "execution_count": 6,
   "id": "579a59aa-6074-4715-a248-bd553e9bddbf",
   "metadata": {
    "editable": false,
    "tags": []
   },
   "outputs": [],
   "source": [
    "// [THIS IS READ-ONLY]\n",
    "val program2 = \"\"\"\n",
    "x = \"woof \";\n",
    "y = \"Dog goes \" ++ (x * 2);\n",
    "\n",
    "print(y);\n",
    "\"\"\""
   ]
  },
  {
   "cell_type": "code",
   "execution_count": 7,
   "id": "629a437d",
   "metadata": {
    "tags": []
   },
   "outputs": [
    {
     "name": "stdout",
     "output_type": "stream",
     "text": [
      "\"Dog goes woof woof \"\n"
     ]
    }
   ],
   "source": [
    "// [YOUR WORK HERE]\n",
    "// @workUnit\n",
    "\n",
    "execute(program2)"
   ]
  },
  {
   "cell_type": "markdown",
   "id": "172ba344-0ce6-49c2-a5ac-d14eefdaffb4",
   "metadata": {
    "editable": false
   },
   "source": [
    "## Loops"
   ]
  },
  {
   "cell_type": "code",
   "execution_count": 8,
   "id": "eab62b5c-103d-4b9e-9244-61faa2571bd7",
   "metadata": {
    "editable": false,
    "tags": []
   },
   "outputs": [],
   "source": [
    "// [THIS IS READ-ONLY]\n",
    "val program3 = \"\"\"\n",
    "sum = 0\n",
    "for(i in 10..20) {\n",
    "  sum = sum + i;\n",
    "}\n",
    "\n",
    "print(sum)\n",
    "\"\"\""
   ]
  },
  {
   "cell_type": "code",
   "execution_count": 9,
   "id": "9f1ac87b",
   "metadata": {
    "tags": []
   },
   "outputs": [
    {
     "name": "stdout",
     "output_type": "stream",
     "text": [
      "sum = 0\n",
      "165\n"
     ]
    }
   ],
   "source": [
    "// [YOUR WORK HERE]\n",
    "// @workUnit\n",
    "\n",
    "execute(program3)"
   ]
  },
  {
   "cell_type": "markdown",
   "id": "46585be1-3814-4ad5-83e8-6ff46f99b90f",
   "metadata": {
    "editable": false,
    "tags": []
   },
   "source": [
    "## Function"
   ]
  },
  {
   "cell_type": "code",
   "execution_count": 10,
   "id": "91e9c33b-9393-4de7-8e98-aa82d568df53",
   "metadata": {
    "editable": false,
    "tags": []
   },
   "outputs": [],
   "source": [
    "// [THIS IS READ-ONLY]\n",
    "val program4 = \"\"\"\n",
    "function greeting(name, message) {\n",
    "  x = \"Hi,\";\n",
    "  x = x ++ \" my name is \" ++ name ++ \".\";\n",
    "  print(x);\n",
    "  print(message);\n",
    "}\n",
    "\n",
    "greeting(\"Albert\", \"How are you?\");\n",
    "\"\"\""
   ]
  },
  {
   "cell_type": "code",
   "execution_count": 11,
   "id": "475f7864",
   "metadata": {
    "tags": []
   },
   "outputs": [
    {
     "name": "stdout",
     "output_type": "stream",
     "text": [
      "\"Hi, my name is Albert.\"\n",
      "\"How are you?\"\n"
     ]
    }
   ],
   "source": [
    "// [YOUR WORK HERE]\n",
    "// @workUnit\n",
    "\n",
    "execute(program4)"
   ]
  },
  {
   "cell_type": "markdown",
   "id": "aeb42862-8d8a-4a40-ae06-a5641eb8d2bf",
   "metadata": {
    "editable": false,
    "tags": []
   },
   "source": [
    "## Recursion"
   ]
  },
  {
   "cell_type": "code",
   "execution_count": 12,
   "id": "5d53a3c1-5382-433b-b265-ff0874223bce",
   "metadata": {
    "editable": false,
    "tags": []
   },
   "outputs": [],
   "source": [
    "// [THIS IS READ-ONLY]\n",
    "val program5 = \"\"\"\n",
    "function factorial(n) {\n",
    "  if(n < 2) {\n",
    "    1;\n",
    "  } else {\n",
    "    n * factorial(n-1);\n",
    "  }\n",
    "}\n",
    "\n",
    "print(factorial(10));\n",
    "\"\"\""
   ]
  },
  {
   "cell_type": "code",
   "execution_count": 13,
   "id": "755cf3df",
   "metadata": {
    "tags": []
   },
   "outputs": [
    {
     "name": "stdout",
     "output_type": "stream",
     "text": [
      "3628800\n"
     ]
    }
   ],
   "source": [
    "// [YOUR WORK HERE]\n",
    "// @workUnit\n",
    "\n",
    "execute(program5)"
   ]
  },
  {
   "cell_type": "markdown",
   "id": "dd47115f-4670-4d49-bfe3-e225c600ad26",
   "metadata": {
    "tags": []
   },
   "source": [
    "## Optional Variable Typing"
   ]
  },
  {
   "cell_type": "code",
   "execution_count": 14,
   "id": "955addf8-8ced-4725-ad8d-c78bca1a117a",
   "metadata": {
    "tags": []
   },
   "outputs": [
    {
     "name": "stdout",
     "output_type": "stream",
     "text": [
      "Error: java.lang.RuntimeException: Type mismatch: expected Int, found StringData\n"
     ]
    }
   ],
   "source": [
    "val program6 = \"\"\"\n",
    "    Int x = 5;\n",
    "    String y = \"hello\";\n",
    "    x = \"string\"; // This should throw a type mismatch error\n",
    "    print(x);\n",
    "    print(y);\n",
    "\"\"\"\n",
    "execute(program6)"
   ]
  },
  {
   "cell_type": "markdown",
   "id": "a911b20e-765a-4eae-bfbc-adb6bd60c531",
   "metadata": {},
   "source": [
    "## Foreach Loop, Array Indexing"
   ]
  },
  {
   "cell_type": "code",
   "execution_count": 15,
   "id": "da42d8d1-61ee-46a7-af97-3707b05f63a0",
   "metadata": {
    "tags": []
   },
   "outputs": [],
   "source": [
    "val program7 = \"\"\"\n",
    "    z = 1;\n",
    "    alpha = 4334.555;\n",
    "    g = {2,3,4,5,\"hello world\",alpha};\n",
    "    foreach(item in g){\n",
    "         if(g[3] > 2) {\n",
    "            print(g[(5-4)+3]);\n",
    "          } else {\n",
    "            print(\"Something went wrong!\");\n",
    "          }\n",
    "    }\n",
    "\"\"\"\n"
   ]
  },
  {
   "cell_type": "code",
   "execution_count": 16,
   "id": "ecd1ee8c-5adf-4c8b-86a3-f65bf0101ef9",
   "metadata": {
    "tags": []
   },
   "outputs": [
    {
     "name": "stdout",
     "output_type": "stream",
     "text": [
      "\"hello world\"\n",
      "\"hello world\"\n",
      "\"hello world\"\n",
      "\"hello world\"\n",
      "\"hello world\"\n",
      "\"hello world\"\n"
     ]
    }
   ],
   "source": [
    "execute(program7)"
   ]
  },
  {
   "cell_type": "markdown",
   "id": "30b069bd-83cc-40a8-bb12-62b4c4a73226",
   "metadata": {},
   "source": [
    "## Dictionary "
   ]
  },
  {
   "cell_type": "code",
   "execution_count": 17,
   "id": "4b65c51a-c061-43c6-9096-7ecf988dae85",
   "metadata": {
    "tags": []
   },
   "outputs": [],
   "source": [
    "val program8 = \"\"\"\n",
    "myDict = {\"one\": 1, \"two\": 2, \"three\": 3};\n",
    "    print(myDict[\"two\"]); \n",
    "    myDict.put(\"hello\",\"world\");\n",
    "    print(myDict); \n",
    "    myDict.remove(\"hello\");\n",
    "    print(myDict); \n",
    "    \n",
    "    print(\"The keys are: \");\n",
    "        print(myDict.keys()); \n",
    "\n",
    "    print(\"The vals are: \");\n",
    "        print(myDict.values()); \n",
    "\"\"\""
   ]
  },
  {
   "cell_type": "code",
   "execution_count": 18,
   "id": "dab6b31d-5db6-4ef6-a96e-91b35a762b39",
   "metadata": {
    "tags": []
   },
   "outputs": [
    {
     "name": "stdout",
     "output_type": "stream",
     "text": [
      "2\n",
      "{\"one\": 1, \"two\": 2, \"three\": 3, \"hello\": \"world\"}\n",
      "{\"one\": 1, \"two\": 2, \"three\": 3}\n",
      "\"The keys are: \"\n",
      "[\"one\", \"two\", \"three\"]\n",
      "\"The vals are: \"\n",
      "[1, 2, 3]\n"
     ]
    }
   ],
   "source": [
    "execute(program8)"
   ]
  },
  {
   "cell_type": "markdown",
   "id": "db83dd16-ddfe-48ee-9a94-c141e1555454",
   "metadata": {},
   "source": [
    "## Size"
   ]
  },
  {
   "cell_type": "code",
   "execution_count": 19,
   "id": "2e7d8531-1670-4c28-8bc3-5bce909bf906",
   "metadata": {
    "tags": []
   },
   "outputs": [],
   "source": [
    "val program9 = \"\"\"\n",
    "\n",
    "x = 5;\n",
    "y = 120;\n",
    "z = 3.14;\n",
    "a = 4244.44242;\n",
    "g = {x,y,z,a};\n",
    "print(g.size());\n",
    "\"\"\""
   ]
  },
  {
   "cell_type": "code",
   "execution_count": 20,
   "id": "8bdbfa73-0a89-4b9a-81c8-4cdd3097d281",
   "metadata": {
    "tags": []
   },
   "outputs": [
    {
     "name": "stdout",
     "output_type": "stream",
     "text": [
      "4\n"
     ]
    }
   ],
   "source": [
    "execute(program9)"
   ]
  },
  {
   "cell_type": "markdown",
   "id": "edd22515-ad68-4832-a422-fc55867820a3",
   "metadata": {},
   "source": [
    "## Function(0 parameters) & Logical Expression"
   ]
  },
  {
   "cell_type": "code",
   "execution_count": 21,
   "id": "1351be0f-2c52-425a-9bc4-361f8ab05f01",
   "metadata": {
    "tags": []
   },
   "outputs": [],
   "source": [
    "// [THIS IS READ-ONLY]\n",
    "val program10 = \"\"\"\n",
    "function a() {\n",
    "    4;\n",
    "}\n",
    "z = !(7 == a()) && (7 == a());\n",
    "y = !(7 == a()) || (7 == a());\n",
    "print(\"this should be false\");\n",
    "print(z);\n",
    "print(\"this should be true\");\n",
    "print(y);\n",
    "\"\"\""
   ]
  },
  {
   "cell_type": "code",
   "execution_count": 22,
   "id": "d8792d42-bd62-4201-89ca-b81e270b1aca",
   "metadata": {
    "tags": []
   },
   "outputs": [
    {
     "name": "stdout",
     "output_type": "stream",
     "text": [
      "\"this should be false\"\n",
      "false\n",
      "\"this should be true\"\n",
      "true\n"
     ]
    }
   ],
   "source": [
    "execute(program10)"
   ]
  },
  {
   "cell_type": "code",
   "execution_count": null,
   "id": "a1ded18d-3fee-4fa5-b103-3c62b24b7c7c",
   "metadata": {},
   "outputs": [],
   "source": []
  }
 ],
 "metadata": {
  "kernelspec": {
   "display_name": "Kotlin",
   "language": "kotlin",
   "name": "kotlin"
  },
  "language_info": {
   "codemirror_mode": "text/x-kotlin",
   "file_extension": ".kt",
   "mimetype": "text/x-kotlin",
   "name": "kotlin",
   "nbconvert_exporter": "",
   "pygments_lexer": "kotlin",
   "version": "1.8.0-dev-707"
  }
 },
 "nbformat": 4,
 "nbformat_minor": 5
}
