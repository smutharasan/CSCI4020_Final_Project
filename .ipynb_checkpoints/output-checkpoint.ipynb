{
 "cells": [
  {
   "cell_type": "markdown",
   "id": "f2dd921e-534b-4e5c-9c36-492f72910813",
   "metadata": {
    "editable": false
   },
   "source": [
    "# Assignment 3"
   ]
  },
  {
   "cell_type": "code",
   "execution_count": 1,
   "id": "5717a6e1-13b5-464b-9244-fdec8411cd5f",
   "metadata": {
    "editable": false,
    "execution": {
     "iopub.execute_input": "2024-04-09T02:16:06.423523Z",
     "iopub.status.busy": "2024-04-09T02:16:06.421062Z",
     "iopub.status.idle": "2024-04-09T02:16:09.496176Z",
     "shell.execute_reply": "2024-04-09T02:16:09.495254Z"
    },
    "tags": []
   },
   "outputs": [],
   "source": [
    "// [THIS IS READ-ONLY]\n",
    "@file:DependsOn(\"/antlr-4.11.1-complete.jar\")\n",
    "@file:DependsOn(\"./target\")"
   ]
  },
  {
   "cell_type": "code",
   "execution_count": 2,
   "id": "3b38dfda-74cd-4464-a6e0-a42096ff8aab",
   "metadata": {
    "editable": false,
    "execution": {
     "iopub.execute_input": "2024-04-09T02:16:09.501216Z",
     "iopub.status.busy": "2024-04-09T02:16:09.500079Z",
     "iopub.status.idle": "2024-04-09T02:16:09.604728Z",
     "shell.execute_reply": "2024-04-09T02:16:09.603802Z"
    },
    "tags": []
   },
   "outputs": [],
   "source": [
    "// [THIS IS READ-ONLY]\n",
    "import org.antlr.v4.runtime.*\n",
    "import backend.*"
   ]
  },
  {
   "cell_type": "code",
   "execution_count": 3,
   "id": "87e5764c-c1cf-43f8-86b8-71f1e6bfae44",
   "metadata": {
    "editable": false,
    "execution": {
     "iopub.execute_input": "2024-04-09T02:16:09.609204Z",
     "iopub.status.busy": "2024-04-09T02:16:09.607963Z",
     "iopub.status.idle": "2024-04-09T02:16:10.504860Z",
     "shell.execute_reply": "2024-04-09T02:16:10.504322Z"
    },
    "tags": []
   },
   "outputs": [],
   "source": [
    "// [THIS IS READ-ONLY]\n",
    "fun execute(source:String) {\n",
    "    val errorlistener = object: BaseErrorListener() {\n",
    "        override fun syntaxError(recognizer: Recognizer<*,*>,\n",
    "               offendingSymbol: Any?,\n",
    "               line: Int,\n",
    "               pos: Int,\n",
    "               msg: String,\n",
    "               e: RecognitionException?) {\n",
    "            throw Exception(\"${e} at line:${line}, char:${pos}\")\n",
    "        }\n",
    "    }\n",
    "    val input = CharStreams.fromString(source)\n",
    "    val lexer = PLLexer(input).apply {\n",
    "        removeErrorListeners()\n",
    "        addErrorListener(errorlistener)\n",
    "    }\n",
    "    val tokens = CommonTokenStream(lexer)\n",
    "    val parser = PLParser(tokens).apply {\n",
    "        removeErrorListeners()\n",
    "        addErrorListener(errorlistener)\n",
    "    }    \n",
    "    \n",
    "    try {\n",
    "        val result = parser.program()\n",
    "        result.expr.eval(Runtime())\n",
    "    } catch(e:Exception) {\n",
    "        println(\"Error: ${e}\")\n",
    "    }\n",
    "}"
   ]
  },
  {
   "cell_type": "markdown",
   "id": "d02565aa-4e9f-4261-a185-d140b68c54f1",
   "metadata": {
    "editable": false
   },
   "source": [
    "## String arithmetics"
   ]
  },
  {
   "cell_type": "code",
   "execution_count": 4,
   "id": "b001c14e-2f45-48fc-82be-a98168bf2aa9",
   "metadata": {
    "editable": false,
    "execution": {
     "iopub.execute_input": "2024-04-09T02:16:10.509452Z",
     "iopub.status.busy": "2024-04-09T02:16:10.508515Z",
     "iopub.status.idle": "2024-04-09T02:16:10.657724Z",
     "shell.execute_reply": "2024-04-09T02:16:10.656718Z"
    },
    "tags": []
   },
   "outputs": [],
   "source": [
    "// [THIS IS READ-ONLY]\n",
    "val program1 = \"\"\"\n",
    "x = \"Hello\";\n",
    "y = \"World\";\n",
    "\n",
    "print(x ++ \" \" ++ y);\n",
    "\"\"\""
   ]
  },
  {
   "cell_type": "code",
   "execution_count": 5,
   "id": "b3c2857e",
   "metadata": {
    "execution": {
     "iopub.execute_input": "2024-04-09T02:16:10.661395Z",
     "iopub.status.busy": "2024-04-09T02:16:10.660661Z",
     "iopub.status.idle": "2024-04-09T02:16:10.829251Z",
     "shell.execute_reply": "2024-04-09T02:16:10.828486Z"
    },
    "tags": []
   },
   "outputs": [
    {
     "name": "stdout",
     "output_type": "stream",
     "text": [
      "\"Hello World\"\n"
     ]
    }
   ],
   "source": [
    "// [YOUR WORK HERE]\n",
    "// @workUnit\n",
    "// execute the program\n",
    "\n",
    "execute(program1)"
   ]
  },
  {
   "cell_type": "markdown",
   "id": "b4ad5b2d-b4b2-42e8-bbe1-0ecefb10102d",
   "metadata": {
    "editable": false
   },
   "source": [
    "## Mixed arithmetics"
   ]
  },
  {
   "cell_type": "code",
   "execution_count": 6,
   "id": "579a59aa-6074-4715-a248-bd553e9bddbf",
   "metadata": {
    "editable": false,
    "execution": {
     "iopub.execute_input": "2024-04-09T02:16:10.856932Z",
     "iopub.status.busy": "2024-04-09T02:16:10.831717Z",
     "iopub.status.idle": "2024-04-09T02:16:10.914272Z",
     "shell.execute_reply": "2024-04-09T02:16:10.913637Z"
    },
    "tags": []
   },
   "outputs": [],
   "source": [
    "// [THIS IS READ-ONLY]\n",
    "val program2 = \"\"\"\n",
    "x = \"woof \";\n",
    "y = \"Dog goes \" ++ (x * 2);\n",
    "\n",
    "print(y);\n",
    "\"\"\""
   ]
  },
  {
   "cell_type": "code",
   "execution_count": 7,
   "id": "629a437d",
   "metadata": {
    "execution": {
     "iopub.execute_input": "2024-04-09T02:16:10.917307Z",
     "iopub.status.busy": "2024-04-09T02:16:10.916609Z",
     "iopub.status.idle": "2024-04-09T02:16:11.070714Z",
     "shell.execute_reply": "2024-04-09T02:16:11.070214Z"
    },
    "tags": []
   },
   "outputs": [
    {
     "name": "stdout",
     "output_type": "stream",
     "text": [
      "\"Dog goes woof woof \"\n"
     ]
    }
   ],
   "source": [
    "// [YOUR WORK HERE]\n",
    "// @workUnit\n",
    "\n",
    "execute(program2)"
   ]
  },
  {
   "cell_type": "markdown",
   "id": "172ba344-0ce6-49c2-a5ac-d14eefdaffb4",
   "metadata": {
    "editable": false
   },
   "source": [
    "## Loops"
   ]
  },
  {
   "cell_type": "code",
   "execution_count": 8,
   "id": "eab62b5c-103d-4b9e-9244-61faa2571bd7",
   "metadata": {
    "editable": false,
    "execution": {
     "iopub.execute_input": "2024-04-09T02:16:11.073846Z",
     "iopub.status.busy": "2024-04-09T02:16:11.073211Z",
     "iopub.status.idle": "2024-04-09T02:16:11.260354Z",
     "shell.execute_reply": "2024-04-09T02:16:11.259750Z"
    },
    "tags": []
   },
   "outputs": [],
   "source": [
    "// [THIS IS READ-ONLY]\n",
    "val program3 = \"\"\"\n",
    "sum = 0\n",
    "for(i in 10..20) {\n",
    "  sum = sum + i;\n",
    "}\n",
    "\n",
    "print(sum)\n",
    "\"\"\""
   ]
  },
  {
   "cell_type": "code",
   "execution_count": 9,
   "id": "9f1ac87b",
   "metadata": {
    "execution": {
     "iopub.execute_input": "2024-04-09T02:16:11.263367Z",
     "iopub.status.busy": "2024-04-09T02:16:11.262750Z",
     "iopub.status.idle": "2024-04-09T02:16:11.356842Z",
     "shell.execute_reply": "2024-04-09T02:16:11.323094Z"
    },
    "tags": []
   },
   "outputs": [
    {
     "name": "stdout",
     "output_type": "stream",
     "text": [
      "sum = 0\n",
      "165\n"
     ]
    }
   ],
   "source": [
    "// [YOUR WORK HERE]\n",
    "// @workUnit\n",
    "\n",
    "execute(program3)"
   ]
  },
  {
   "cell_type": "markdown",
   "id": "46585be1-3814-4ad5-83e8-6ff46f99b90f",
   "metadata": {
    "editable": false,
    "tags": []
   },
   "source": [
    "## Function"
   ]
  },
  {
   "cell_type": "code",
   "execution_count": 10,
   "id": "91e9c33b-9393-4de7-8e98-aa82d568df53",
   "metadata": {
    "editable": false,
    "execution": {
     "iopub.execute_input": "2024-04-09T02:16:11.359887Z",
     "iopub.status.busy": "2024-04-09T02:16:11.359290Z",
     "iopub.status.idle": "2024-04-09T02:16:11.410834Z",
     "shell.execute_reply": "2024-04-09T02:16:11.410447Z"
    },
    "tags": []
   },
   "outputs": [],
   "source": [
    "// [THIS IS READ-ONLY]\n",
    "val program4 = \"\"\"\n",
    "function greeting(name, message) {\n",
    "  x = \"Hi,\";\n",
    "  x = x ++ \" my name is \" ++ name ++ \".\";\n",
    "  print(x);\n",
    "  print(message);\n",
    "}\n",
    "\n",
    "greeting(\"Albert\", \"How are you?\");\n",
    "\"\"\""
   ]
  },
  {
   "cell_type": "code",
   "execution_count": 11,
   "id": "475f7864",
   "metadata": {
    "execution": {
     "iopub.execute_input": "2024-04-09T02:16:11.413468Z",
     "iopub.status.busy": "2024-04-09T02:16:11.412962Z",
     "iopub.status.idle": "2024-04-09T02:16:11.505126Z",
     "shell.execute_reply": "2024-04-09T02:16:11.504588Z"
    },
    "tags": []
   },
   "outputs": [
    {
     "name": "stdout",
     "output_type": "stream",
     "text": [
      "\"Hi, my name is Albert.\"\n",
      "\"How are you?\"\n"
     ]
    }
   ],
   "source": [
    "// [YOUR WORK HERE]\n",
    "// @workUnit\n",
    "\n",
    "execute(program4)"
   ]
  },
  {
   "cell_type": "markdown",
   "id": "aeb42862-8d8a-4a40-ae06-a5641eb8d2bf",
   "metadata": {
    "editable": false,
    "tags": []
   },
   "source": [
    "## Recursion"
   ]
  },
  {
   "cell_type": "code",
   "execution_count": 12,
   "id": "c39324da-96e3-4e61-a489-f23a7fc3f508",
   "metadata": {
    "editable": false,
    "execution": {
     "iopub.execute_input": "2024-04-09T02:16:11.507892Z",
     "iopub.status.busy": "2024-04-09T02:16:11.507367Z",
     "iopub.status.idle": "2024-04-09T02:16:11.589300Z",
     "shell.execute_reply": "2024-04-09T02:16:11.588786Z"
    },
    "tags": []
   },
   "outputs": [],
   "source": [
    "// [THIS IS READ-ONLY]\n",
    "val program5 = \"\"\"\n",
    "function factorial(n) {\n",
    "  if(n < 2) {\n",
    "    1;\n",
    "  } else {\n",
    "    n * factorial(n-1);\n",
    "  }\n",
    "}\n",
    "\n",
    "print(factorial(10));\n",
    "\"\"\""
   ]
  },
  {
   "cell_type": "code",
   "execution_count": 13,
   "id": "755cf3df",
   "metadata": {
    "execution": {
     "iopub.execute_input": "2024-04-09T02:16:11.591839Z",
     "iopub.status.busy": "2024-04-09T02:16:11.591324Z",
     "iopub.status.idle": "2024-04-09T02:16:11.700076Z",
     "shell.execute_reply": "2024-04-09T02:16:11.699583Z"
    },
    "tags": []
   },
   "outputs": [
    {
     "name": "stdout",
     "output_type": "stream",
     "text": [
      "3628800\n"
     ]
    }
   ],
   "source": [
    "// [YOUR WORK HERE]\n",
    "// @workUnit\n",
    "\n",
    "execute(program5)"
   ]
  },
  {
   "cell_type": "code",
   "execution_count": 14,
   "id": "10a49ccd-c2cc-4580-a959-130e38c66e5e",
   "metadata": {
    "execution": {
     "iopub.execute_input": "2024-04-09T02:16:11.703762Z",
     "iopub.status.busy": "2024-04-09T02:16:11.702134Z",
     "iopub.status.idle": "2024-04-09T02:16:11.783104Z",
     "shell.execute_reply": "2024-04-09T02:16:11.782633Z"
    },
    "tags": []
   },
   "outputs": [],
   "source": [
    "val while_program = \"\"\"\n",
    "\n",
    "x = 5;\n",
    "y = 120;\n",
    "z = 3.14;\n",
    "a = 4244.44242;\n",
    "b_array = [a,x,y + y,(z), \"dog \" ++ \"woof \" ++ \"woof\" ];\n",
    "\n",
    "print(b_array);\n",
    "//print(([a,x,y + y,(z), \"dog \" ++ \"woof \" ++ \"woof\" ].size()));\n",
    "\n",
    "while (x < (y / 10)) {\n",
    "    print(\"Hello world!\");\n",
    "    x = x + 1;\n",
    "    print(3.2 * 2);\n",
    "}\n",
    "\n",
    "\"\"\""
   ]
  },
  {
   "cell_type": "code",
   "execution_count": 15,
   "id": "38355ceb-e5cc-4b3c-b64f-58640f5b929a",
   "metadata": {
    "execution": {
     "iopub.execute_input": "2024-04-09T02:16:11.785768Z",
     "iopub.status.busy": "2024-04-09T02:16:11.785054Z",
     "iopub.status.idle": "2024-04-09T02:16:11.872062Z",
     "shell.execute_reply": "2024-04-09T02:16:11.871591Z"
    },
    "tags": []
   },
   "outputs": [
    {
     "name": "stdout",
     "output_type": "stream",
     "text": [
      "[4244.44242, 5, 240, 3.14, \"dog woof woof\"]\n",
      "\"Hello world!\"\n",
      "6.4\n",
      "\"Hello world!\"\n",
      "6.4\n",
      "\"Hello world!\"\n",
      "6.4\n",
      "\"Hello world!\"\n",
      "6.4\n",
      "\"Hello world!\"\n",
      "6.4\n",
      "\"Hello world!\"\n",
      "6.4\n",
      "\"Hello world!\"\n",
      "6.4\n"
     ]
    }
   ],
   "source": [
    "execute(while_program)"
   ]
  },
  {
   "cell_type": "code",
   "execution_count": 16,
   "id": "c6ed5ff4-edf8-4c5d-a2bd-5d4062726c09",
   "metadata": {
    "execution": {
     "iopub.execute_input": "2024-04-09T02:16:11.874428Z",
     "iopub.status.busy": "2024-04-09T02:16:11.873941Z",
     "iopub.status.idle": "2024-04-09T02:16:11.918213Z",
     "shell.execute_reply": "2024-04-09T02:16:11.917748Z"
    }
   },
   "outputs": [],
   "source": [
    "// [THIS IS READ-ONLY]\n",
    "val program_new = \"\"\"\n",
    "sum = 0;\n",
    "for(i in 10..20) {\n",
    "  sum = sum + i;\n",
    "}\n",
    "\n",
    "print(sum);\n",
    "\"\"\""
   ]
  },
  {
   "cell_type": "code",
   "execution_count": 17,
   "id": "3021b249-9898-4c95-a110-bf0901abcaca",
   "metadata": {
    "execution": {
     "iopub.execute_input": "2024-04-09T02:16:11.920424Z",
     "iopub.status.busy": "2024-04-09T02:16:11.920030Z",
     "iopub.status.idle": "2024-04-09T02:16:12.014801Z",
     "shell.execute_reply": "2024-04-09T02:16:12.014010Z"
    },
    "tags": []
   },
   "outputs": [
    {
     "name": "stdout",
     "output_type": "stream",
     "text": [
      "sum = 0\n",
      "165\n"
     ]
    }
   ],
   "source": [
    "execute(program_new)"
   ]
  },
  {
   "cell_type": "code",
   "execution_count": 18,
   "id": "e81bdcd7-27c1-4f1f-abe2-9688072ff105",
   "metadata": {
    "execution": {
     "iopub.execute_input": "2024-04-09T02:16:12.017271Z",
     "iopub.status.busy": "2024-04-09T02:16:12.016779Z",
     "iopub.status.idle": "2024-04-09T02:16:12.108945Z",
     "shell.execute_reply": "2024-04-09T02:16:12.108422Z"
    },
    "tags": []
   },
   "outputs": [],
   "source": [
    "// [THIS IS READ-ONLY]\n",
    "val func_sup_prog = \"\"\"\n",
    "function greeting() {\n",
    "  x = \"Hi,\";\n",
    "  print(x);\n",
    "}\n",
    "\n",
    "z = greeting;\n",
    "z(());\n",
    "\"\"\""
   ]
  },
  {
   "cell_type": "code",
   "execution_count": 19,
   "id": "5a76a621-61df-46bd-8b56-0de959666f2e",
   "metadata": {
    "execution": {
     "iopub.execute_input": "2024-04-09T02:16:12.113145Z",
     "iopub.status.busy": "2024-04-09T02:16:12.112635Z",
     "iopub.status.idle": "2024-04-09T02:16:12.206195Z",
     "shell.execute_reply": "2024-04-09T02:16:12.205812Z"
    },
    "tags": []
   },
   "outputs": [
    {
     "name": "stdout",
     "output_type": "stream",
     "text": [
      "Error: java.lang.Exception: org.antlr.v4.runtime.NoViableAltException at line:8, char:3\n"
     ]
    }
   ],
   "source": [
    "execute(func_sup_prog)"
   ]
  },
  {
   "cell_type": "code",
   "execution_count": null,
   "id": "bd9cff40-39df-4df6-b081-341dd93aa7b7",
   "metadata": {},
   "outputs": [],
   "source": []
  },
  {
   "cell_type": "code",
   "execution_count": null,
   "id": "1fd64d69-f1bb-4983-8593-9f9e764fb3dc",
   "metadata": {},
   "outputs": [],
   "source": []
  }
 ],
 "metadata": {
  "kernelspec": {
   "display_name": "Kotlin",
   "language": "kotlin",
   "name": "kotlin"
  },
  "language_info": {
   "codemirror_mode": "text/x-kotlin",
   "file_extension": ".kt",
   "mimetype": "text/x-kotlin",
   "name": "kotlin",
   "nbconvert_exporter": "",
   "pygments_lexer": "kotlin",
   "version": "1.8.0-dev-707"
  }
 },
 "nbformat": 4,
 "nbformat_minor": 5
}
